{
 "cells": [
  {
   "cell_type": "markdown",
   "id": "55695c24",
   "metadata": {
    "_cell_guid": "cde1f4e5-5435-4f62-b525-a9e0d583a111",
    "_uuid": "1ebb8818-a1d8-4afb-90cf-5e5ff7b1b8cd",
    "collapsed": false,
    "id": "bfdb2f27",
    "jupyter": {
     "outputs_hidden": false
    },
    "papermill": {
     "duration": 0.002228,
     "end_time": "2025-09-04T21:47:59.287283",
     "exception": false,
     "start_time": "2025-09-04T21:47:59.285055",
     "status": "completed"
    },
    "tags": []
   },
   "source": [
    "# Proyecto 2\n",
    "Ariela Mishaan (22052), Alina Carías (22539), Diego Soto (22737), Ignacio Méndez (22613) y Marcos Díaz"
   ]
  },
  {
   "cell_type": "markdown",
   "id": "1d232fa2",
   "metadata": {
    "papermill": {
     "duration": 0.001587,
     "end_time": "2025-09-04T21:47:59.290713",
     "exception": false,
     "start_time": "2025-09-04T21:47:59.289126",
     "status": "completed"
    },
    "tags": []
   },
   "source": []
  },
  {
   "cell_type": "markdown",
   "id": "e9aaca08",
   "metadata": {
    "papermill": {
     "duration": 0.001457,
     "end_time": "2025-09-04T21:47:59.293781",
     "exception": false,
     "start_time": "2025-09-04T21:47:59.292324",
     "status": "completed"
    },
    "tags": []
   },
   "source": [
    "## Carga de Datos"
   ]
  },
  {
   "cell_type": "code",
   "execution_count": 1,
   "id": "577d4aa3",
   "metadata": {
    "_cell_guid": "75ec5cfb-33c9-480f-a771-5614d37ddf6f",
    "_uuid": "5e3716f8-1da7-4358-8e49-4129ab4c0963",
    "collapsed": false,
    "execution": {
     "iopub.execute_input": "2025-09-04T21:47:59.299063Z",
     "iopub.status.busy": "2025-09-04T21:47:59.298724Z",
     "iopub.status.idle": "2025-09-04T21:48:01.606183Z",
     "shell.execute_reply": "2025-09-04T21:48:01.604922Z"
    },
    "id": "8da13690",
    "jupyter": {
     "outputs_hidden": false
    },
    "papermill": {
     "duration": 2.312366,
     "end_time": "2025-09-04T21:48:01.607883",
     "exception": false,
     "start_time": "2025-09-04T21:47:59.295517",
     "status": "completed"
    },
    "tags": []
   },
   "outputs": [
    {
     "name": "stdout",
     "output_type": "stream",
     "text": [
      "/kaggle/input/asl-fingerspelling/supplemental_metadata.csv\n",
      "/kaggle/input/asl-fingerspelling/character_to_prediction_index.json\n",
      "/kaggle/input/asl-fingerspelling/train.csv\n",
      "/kaggle/input/asl-fingerspelling/supplemental_landmarks/371169664.parquet\n",
      "/kaggle/input/asl-fingerspelling/supplemental_landmarks/369584223.parquet\n",
      "/kaggle/input/asl-fingerspelling/supplemental_landmarks/1682915129.parquet\n",
      "/kaggle/input/asl-fingerspelling/supplemental_landmarks/775880548.parquet\n",
      "/kaggle/input/asl-fingerspelling/supplemental_landmarks/2100073719.parquet\n",
      "/kaggle/input/asl-fingerspelling/supplemental_landmarks/1650637630.parquet\n",
      "/kaggle/input/asl-fingerspelling/supplemental_landmarks/1471096258.parquet\n",
      "/kaggle/input/asl-fingerspelling/supplemental_landmarks/86446671.parquet\n",
      "/kaggle/input/asl-fingerspelling/supplemental_landmarks/897287709.parquet\n",
      "/kaggle/input/asl-fingerspelling/supplemental_landmarks/333606065.parquet\n",
      "/kaggle/input/asl-fingerspelling/supplemental_landmarks/2057261717.parquet\n",
      "/kaggle/input/asl-fingerspelling/supplemental_landmarks/971104021.parquet\n",
      "/kaggle/input/asl-fingerspelling/supplemental_landmarks/471766624.parquet\n",
      "/kaggle/input/asl-fingerspelling/supplemental_landmarks/1881515495.parquet\n",
      "/kaggle/input/asl-fingerspelling/supplemental_landmarks/1857374937.parquet\n",
      "/kaggle/input/asl-fingerspelling/supplemental_landmarks/293101677.parquet\n",
      "/kaggle/input/asl-fingerspelling/supplemental_landmarks/595441814.parquet\n",
      "/kaggle/input/asl-fingerspelling/supplemental_landmarks/1279694894.parquet\n",
      "/kaggle/input/asl-fingerspelling/supplemental_landmarks/756566775.parquet\n",
      "/kaggle/input/asl-fingerspelling/supplemental_landmarks/1471341722.parquet\n",
      "/kaggle/input/asl-fingerspelling/supplemental_landmarks/1112747136.parquet\n",
      "/kaggle/input/asl-fingerspelling/supplemental_landmarks/1756773911.parquet\n",
      "/kaggle/input/asl-fingerspelling/supplemental_landmarks/33432165.parquet\n",
      "/kaggle/input/asl-fingerspelling/supplemental_landmarks/1779786322.parquet\n",
      "/kaggle/input/asl-fingerspelling/supplemental_landmarks/1755047076.parquet\n",
      "/kaggle/input/asl-fingerspelling/supplemental_landmarks/1624527344.parquet\n",
      "/kaggle/input/asl-fingerspelling/supplemental_landmarks/597469033.parquet\n",
      "/kaggle/input/asl-fingerspelling/supplemental_landmarks/1505488209.parquet\n",
      "/kaggle/input/asl-fingerspelling/supplemental_landmarks/1144115867.parquet\n",
      "/kaggle/input/asl-fingerspelling/supplemental_landmarks/1249944812.parquet\n",
      "/kaggle/input/asl-fingerspelling/supplemental_landmarks/1118603411.parquet\n",
      "/kaggle/input/asl-fingerspelling/supplemental_landmarks/676340265.parquet\n",
      "/kaggle/input/asl-fingerspelling/supplemental_landmarks/716508881.parquet\n",
      "/kaggle/input/asl-fingerspelling/supplemental_landmarks/736978972.parquet\n",
      "/kaggle/input/asl-fingerspelling/supplemental_landmarks/1579345709.parquet\n",
      "/kaggle/input/asl-fingerspelling/supplemental_landmarks/285528514.parquet\n",
      "/kaggle/input/asl-fingerspelling/supplemental_landmarks/1047404576.parquet\n",
      "/kaggle/input/asl-fingerspelling/supplemental_landmarks/697480828.parquet\n",
      "/kaggle/input/asl-fingerspelling/supplemental_landmarks/1032110484.parquet\n",
      "/kaggle/input/asl-fingerspelling/supplemental_landmarks/440362090.parquet\n",
      "/kaggle/input/asl-fingerspelling/supplemental_landmarks/924144755.parquet\n",
      "/kaggle/input/asl-fingerspelling/supplemental_landmarks/639454452.parquet\n",
      "/kaggle/input/asl-fingerspelling/supplemental_landmarks/236903981.parquet\n",
      "/kaggle/input/asl-fingerspelling/supplemental_landmarks/636900267.parquet\n",
      "/kaggle/input/asl-fingerspelling/supplemental_landmarks/1176508147.parquet\n",
      "/kaggle/input/asl-fingerspelling/supplemental_landmarks/131312512.parquet\n",
      "/kaggle/input/asl-fingerspelling/supplemental_landmarks/778903889.parquet\n",
      "/kaggle/input/asl-fingerspelling/supplemental_landmarks/193950599.parquet\n",
      "/kaggle/input/asl-fingerspelling/supplemental_landmarks/442061898.parquet\n",
      "/kaggle/input/asl-fingerspelling/supplemental_landmarks/95345213.parquet\n",
      "/kaggle/input/asl-fingerspelling/supplemental_landmarks/1407656790.parquet\n",
      "/kaggle/input/asl-fingerspelling/supplemental_landmarks/680303484.parquet\n",
      "/kaggle/input/asl-fingerspelling/supplemental_landmarks/1727438550.parquet\n",
      "/kaggle/input/asl-fingerspelling/train_landmarks/1358493307.parquet\n",
      "/kaggle/input/asl-fingerspelling/train_landmarks/495378749.parquet\n",
      "/kaggle/input/asl-fingerspelling/train_landmarks/2118949241.parquet\n",
      "/kaggle/input/asl-fingerspelling/train_landmarks/5414471.parquet\n",
      "/kaggle/input/asl-fingerspelling/train_landmarks/1133664520.parquet\n",
      "/kaggle/input/asl-fingerspelling/train_landmarks/433948159.parquet\n",
      "/kaggle/input/asl-fingerspelling/train_landmarks/1920330615.parquet\n",
      "/kaggle/input/asl-fingerspelling/train_landmarks/683666742.parquet\n",
      "/kaggle/input/asl-fingerspelling/train_landmarks/1365772051.parquet\n",
      "/kaggle/input/asl-fingerspelling/train_landmarks/939623093.parquet\n",
      "/kaggle/input/asl-fingerspelling/train_landmarks/1405046009.parquet\n",
      "/kaggle/input/asl-fingerspelling/train_landmarks/450474571.parquet\n",
      "/kaggle/input/asl-fingerspelling/train_landmarks/149822653.parquet\n",
      "/kaggle/input/asl-fingerspelling/train_landmarks/152029243.parquet\n",
      "/kaggle/input/asl-fingerspelling/train_landmarks/1552432300.parquet\n",
      "/kaggle/input/asl-fingerspelling/train_landmarks/1365275733.parquet\n",
      "/kaggle/input/asl-fingerspelling/train_landmarks/1880177496.parquet\n",
      "/kaggle/input/asl-fingerspelling/train_landmarks/1021040628.parquet\n",
      "/kaggle/input/asl-fingerspelling/train_landmarks/1557244878.parquet\n",
      "/kaggle/input/asl-fingerspelling/train_landmarks/1497621680.parquet\n",
      "/kaggle/input/asl-fingerspelling/train_landmarks/522550314.parquet\n",
      "/kaggle/input/asl-fingerspelling/train_landmarks/649779897.parquet\n",
      "/kaggle/input/asl-fingerspelling/train_landmarks/1905462118.parquet\n",
      "/kaggle/input/asl-fingerspelling/train_landmarks/175396851.parquet\n",
      "/kaggle/input/asl-fingerspelling/train_landmarks/638508439.parquet\n",
      "/kaggle/input/asl-fingerspelling/train_landmarks/532011803.parquet\n",
      "/kaggle/input/asl-fingerspelling/train_landmarks/2072296290.parquet\n",
      "/kaggle/input/asl-fingerspelling/train_landmarks/1906357076.parquet\n",
      "/kaggle/input/asl-fingerspelling/train_landmarks/2026717426.parquet\n",
      "/kaggle/input/asl-fingerspelling/train_landmarks/1967755728.parquet\n",
      "/kaggle/input/asl-fingerspelling/train_landmarks/1785039512.parquet\n",
      "/kaggle/input/asl-fingerspelling/train_landmarks/1643479812.parquet\n",
      "/kaggle/input/asl-fingerspelling/train_landmarks/1134756332.parquet\n",
      "/kaggle/input/asl-fingerspelling/train_landmarks/1019715464.parquet\n",
      "/kaggle/input/asl-fingerspelling/train_landmarks/566963657.parquet\n",
      "/kaggle/input/asl-fingerspelling/train_landmarks/568753759.parquet\n",
      "/kaggle/input/asl-fingerspelling/train_landmarks/1726141437.parquet\n",
      "/kaggle/input/asl-fingerspelling/train_landmarks/296317215.parquet\n",
      "/kaggle/input/asl-fingerspelling/train_landmarks/234418913.parquet\n",
      "/kaggle/input/asl-fingerspelling/train_landmarks/614661748.parquet\n",
      "/kaggle/input/asl-fingerspelling/train_landmarks/654436541.parquet\n",
      "/kaggle/input/asl-fingerspelling/train_landmarks/474255203.parquet\n",
      "/kaggle/input/asl-fingerspelling/train_landmarks/1662742697.parquet\n",
      "/kaggle/input/asl-fingerspelling/train_landmarks/1099408314.parquet\n",
      "/kaggle/input/asl-fingerspelling/train_landmarks/1341528257.parquet\n",
      "/kaggle/input/asl-fingerspelling/train_landmarks/105143404.parquet\n",
      "/kaggle/input/asl-fingerspelling/train_landmarks/527708222.parquet\n",
      "/kaggle/input/asl-fingerspelling/train_landmarks/882979387.parquet\n",
      "/kaggle/input/asl-fingerspelling/train_landmarks/933868835.parquet\n",
      "/kaggle/input/asl-fingerspelling/train_landmarks/1969985709.parquet\n",
      "/kaggle/input/asl-fingerspelling/train_landmarks/425182931.parquet\n",
      "/kaggle/input/asl-fingerspelling/train_landmarks/1098899348.parquet\n",
      "/kaggle/input/asl-fingerspelling/train_landmarks/1255240050.parquet\n",
      "/kaggle/input/asl-fingerspelling/train_landmarks/1997878546.parquet\n",
      "/kaggle/input/asl-fingerspelling/train_landmarks/128822441.parquet\n",
      "/kaggle/input/asl-fingerspelling/train_landmarks/388576474.parquet\n",
      "/kaggle/input/asl-fingerspelling/train_landmarks/546816846.parquet\n",
      "/kaggle/input/asl-fingerspelling/train_landmarks/1320204318.parquet\n",
      "/kaggle/input/asl-fingerspelling/train_landmarks/1448136004.parquet\n",
      "/kaggle/input/asl-fingerspelling/train_landmarks/349393104.parquet\n",
      "/kaggle/input/asl-fingerspelling/train_landmarks/2072876091.parquet\n",
      "/kaggle/input/asl-fingerspelling/train_landmarks/871280215.parquet\n",
      "/kaggle/input/asl-fingerspelling/train_landmarks/1562234637.parquet\n",
      "/kaggle/input/asl-fingerspelling/train_landmarks/1865557033.parquet\n",
      "/kaggle/input/asl-fingerspelling/train_landmarks/1664666588.parquet\n",
      "/kaggle/input/asl-fingerspelling/train_landmarks/1647220008.parquet\n",
      "/kaggle/input/asl-fingerspelling/train_landmarks/2036580525.parquet\n",
      "/kaggle/input/asl-fingerspelling/train_landmarks/169560558.parquet\n"
     ]
    }
   ],
   "source": [
    "# This Python 3 environment comes with many helpful analytics libraries installed\n",
    "# It is defined by the kaggle/python Docker image: https://github.com/kaggle/docker-python\n",
    "# For example, here's several helpful packages to load\n",
    "\n",
    "import numpy as np # linear algebra\n",
    "import pandas as pd # data processing, CSV file I/O (e.g. pd.read_csv)\n",
    "\n",
    "# Input data files are available in the read-only \"../input/\" directory\n",
    "# For example, running this (by clicking run or pressing Shift+Enter) will list all files under the input directory\n",
    "\n",
    "import os\n",
    "for dirname, _, filenames in os.walk('/kaggle/input'):\n",
    "    for filename in filenames:\n",
    "        print(os.path.join(dirname, filename))\n",
    "\n",
    "# You can write up to 20GB to the current directory (/kaggle/working/) that gets preserved as output when you create a version using \"Save & Run All\"\n",
    "# You can also write temporary files to /kaggle/temp/, but they won't be saved outside of the current session"
   ]
  },
  {
   "cell_type": "code",
   "execution_count": 2,
   "id": "f5c0be84",
   "metadata": {
    "execution": {
     "iopub.execute_input": "2025-09-04T21:48:01.614141Z",
     "iopub.status.busy": "2025-09-04T21:48:01.613079Z",
     "iopub.status.idle": "2025-09-04T21:48:01.791608Z",
     "shell.execute_reply": "2025-09-04T21:48:01.790559Z"
    },
    "papermill": {
     "duration": 0.183026,
     "end_time": "2025-09-04T21:48:01.793188",
     "exception": false,
     "start_time": "2025-09-04T21:48:01.610162",
     "status": "completed"
    },
    "tags": []
   },
   "outputs": [
    {
     "name": "stdout",
     "output_type": "stream",
     "text": [
      "Full train dataset shape is (67208, 5)\n"
     ]
    }
   ],
   "source": [
    "dataset_df = pd.read_csv('/kaggle/input/asl-fingerspelling/train.csv')\n",
    "print(\"Full train dataset shape is {}\".format(dataset_df.shape))"
   ]
  },
  {
   "cell_type": "code",
   "execution_count": 3,
   "id": "a2dd3d93",
   "metadata": {
    "execution": {
     "iopub.execute_input": "2025-09-04T21:48:01.798994Z",
     "iopub.status.busy": "2025-09-04T21:48:01.798700Z",
     "iopub.status.idle": "2025-09-04T21:48:01.823456Z",
     "shell.execute_reply": "2025-09-04T21:48:01.822414Z"
    },
    "papermill": {
     "duration": 0.029413,
     "end_time": "2025-09-04T21:48:01.824927",
     "exception": false,
     "start_time": "2025-09-04T21:48:01.795514",
     "status": "completed"
    },
    "tags": []
   },
   "outputs": [
    {
     "data": {
      "text/html": [
       "<div>\n",
       "<style scoped>\n",
       "    .dataframe tbody tr th:only-of-type {\n",
       "        vertical-align: middle;\n",
       "    }\n",
       "\n",
       "    .dataframe tbody tr th {\n",
       "        vertical-align: top;\n",
       "    }\n",
       "\n",
       "    .dataframe thead th {\n",
       "        text-align: right;\n",
       "    }\n",
       "</style>\n",
       "<table border=\"1\" class=\"dataframe\">\n",
       "  <thead>\n",
       "    <tr style=\"text-align: right;\">\n",
       "      <th></th>\n",
       "      <th>path</th>\n",
       "      <th>file_id</th>\n",
       "      <th>sequence_id</th>\n",
       "      <th>participant_id</th>\n",
       "      <th>phrase</th>\n",
       "    </tr>\n",
       "  </thead>\n",
       "  <tbody>\n",
       "    <tr>\n",
       "      <th>0</th>\n",
       "      <td>train_landmarks/5414471.parquet</td>\n",
       "      <td>5414471</td>\n",
       "      <td>1816796431</td>\n",
       "      <td>217</td>\n",
       "      <td>3 creekhouse</td>\n",
       "    </tr>\n",
       "    <tr>\n",
       "      <th>1</th>\n",
       "      <td>train_landmarks/5414471.parquet</td>\n",
       "      <td>5414471</td>\n",
       "      <td>1816825349</td>\n",
       "      <td>107</td>\n",
       "      <td>scales/kuhaylah</td>\n",
       "    </tr>\n",
       "    <tr>\n",
       "      <th>2</th>\n",
       "      <td>train_landmarks/5414471.parquet</td>\n",
       "      <td>5414471</td>\n",
       "      <td>1816909464</td>\n",
       "      <td>1</td>\n",
       "      <td>1383 william lanier</td>\n",
       "    </tr>\n",
       "    <tr>\n",
       "      <th>3</th>\n",
       "      <td>train_landmarks/5414471.parquet</td>\n",
       "      <td>5414471</td>\n",
       "      <td>1816967051</td>\n",
       "      <td>63</td>\n",
       "      <td>988 franklin lane</td>\n",
       "    </tr>\n",
       "    <tr>\n",
       "      <th>4</th>\n",
       "      <td>train_landmarks/5414471.parquet</td>\n",
       "      <td>5414471</td>\n",
       "      <td>1817123330</td>\n",
       "      <td>89</td>\n",
       "      <td>6920 northeast 661st road</td>\n",
       "    </tr>\n",
       "  </tbody>\n",
       "</table>\n",
       "</div>"
      ],
      "text/plain": [
       "                              path  file_id  sequence_id  participant_id  \\\n",
       "0  train_landmarks/5414471.parquet  5414471   1816796431             217   \n",
       "1  train_landmarks/5414471.parquet  5414471   1816825349             107   \n",
       "2  train_landmarks/5414471.parquet  5414471   1816909464               1   \n",
       "3  train_landmarks/5414471.parquet  5414471   1816967051              63   \n",
       "4  train_landmarks/5414471.parquet  5414471   1817123330              89   \n",
       "\n",
       "                      phrase  \n",
       "0               3 creekhouse  \n",
       "1            scales/kuhaylah  \n",
       "2        1383 william lanier  \n",
       "3          988 franklin lane  \n",
       "4  6920 northeast 661st road  "
      ]
     },
     "execution_count": 3,
     "metadata": {},
     "output_type": "execute_result"
    }
   ],
   "source": [
    "dataset_df.head()"
   ]
  }
 ],
 "metadata": {
  "colab": {
   "provenance": []
  },
  "kaggle": {
   "accelerator": "none",
   "dataSources": [
    {
     "databundleVersionId": 5973250,
     "sourceId": 52950,
     "sourceType": "competition"
    }
   ],
   "dockerImageVersionId": 31089,
   "isGpuEnabled": false,
   "isInternetEnabled": true,
   "language": "python",
   "sourceType": "notebook"
  },
  "kernelspec": {
   "display_name": "Python 3",
   "language": "python",
   "name": "python3"
  },
  "language_info": {
   "codemirror_mode": {
    "name": "ipython",
    "version": 3
   },
   "file_extension": ".py",
   "mimetype": "text/x-python",
   "name": "python",
   "nbconvert_exporter": "python",
   "pygments_lexer": "ipython3",
   "version": "3.11.13"
  },
  "papermill": {
   "default_parameters": {},
   "duration": 8.515917,
   "end_time": "2025-09-04T21:48:02.347953",
   "environment_variables": {},
   "exception": null,
   "input_path": "__notebook__.ipynb",
   "output_path": "__notebook__.ipynb",
   "parameters": {},
   "start_time": "2025-09-04T21:47:53.832036",
   "version": "2.6.0"
  }
 },
 "nbformat": 4,
 "nbformat_minor": 5
}
